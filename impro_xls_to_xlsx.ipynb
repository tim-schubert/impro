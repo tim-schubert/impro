{
 "cells": [
  {
   "cell_type": "code",
   "execution_count": null,
   "id": "603b84a9",
   "metadata": {},
   "outputs": [],
   "source": [
    "## IMPRO .xls to .xlsx conversion script\n",
    "\n",
    "pip install pandas\n",
    "pip install XlsxWriter\n",
    "\n",
    "import os\n",
    "import glob\n",
    "import pandas as pd\n",
    "\n",
    "# Specify the folder containing the .xls files\n",
    "folder_path = '/your_folder'\n",
    "\n",
    "# List all .xls files in the folder\n",
    "xls_files = glob.glob(os.path.join(folder_path, '*.xls'))\n",
    "\n",
    "# Iterate through the .xls files and convert them to .xlsx\n",
    "for xls_file in xls_files:\n",
    "    # Extract the file name without extension\n",
    "    file_name = os.path.splitext(os.path.basename(xls_file))[0]\n",
    "\n",
    "    # Set the output file path with .xlsx extension\n",
    "    xlsx_file_path = os.path.join(folder_path, f\"{file_name}.xlsx\")\n",
    "\n",
    "    # Read the .xls file\n",
    "    xls = pd.ExcelFile(xls_file)\n",
    "\n",
    "    # Create a new ExcelWriter object and copy each sheet to the new file\n",
    "    with pd.ExcelWriter(xlsx_file_path, engine='xlsxwriter') as writer:\n",
    "        for sheet_name in xls.sheet_names:\n",
    "            df = pd.read_excel(xls, sheet_name=sheet_name)\n",
    "            df.to_excel(writer, sheet_name=sheet_name, index=False)\n",
    "\n",
    "print(\"Conversion complete.\")"
   ]
  }
 ],
 "metadata": {
  "kernelspec": {
   "display_name": "Python 3 (ipykernel)",
   "language": "python",
   "name": "python3"
  },
  "language_info": {
   "codemirror_mode": {
    "name": "ipython",
    "version": 3
   },
   "file_extension": ".py",
   "mimetype": "text/x-python",
   "name": "python",
   "nbconvert_exporter": "python",
   "pygments_lexer": "ipython3",
   "version": "3.10.14"
  }
 },
 "nbformat": 4,
 "nbformat_minor": 5
}
